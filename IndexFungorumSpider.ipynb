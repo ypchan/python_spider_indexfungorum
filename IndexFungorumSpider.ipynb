{
 "cells": [
  {
   "cell_type": "markdown",
   "metadata": {},
   "source": [
    "# Using Selenium to get information from Index Fungorum "
   ]
  },
  {
   "cell_type": "raw",
   "metadata": {},
   "source": [
    "使用Selenium从IndexFungorum抓取物种记录信息"
   ]
  },
  {
   "cell_type": "code",
   "execution_count": 1,
   "metadata": {},
   "outputs": [],
   "source": [
    "# load required packages # 加载需要的python包\n",
    "import re\n",
    "import os\n",
    "import sys\n",
    "import time\n",
    "import pandas as pd\n",
    "\n",
    "from selenium import webdriver\n",
    "from selenium.webdriver.edge.service import Service\n",
    "from selenium.webdriver.common.by import By\n",
    "from Bio import Entrez\n",
    "\n",
    "from tqdm import tqdm"
   ]
  },
  {
   "cell_type": "markdown",
   "metadata": {},
   "source": [
    "# Define function "
   ]
  },
  {
   "cell_type": "code",
   "execution_count": 2,
   "metadata": {},
   "outputs": [],
   "source": [
    "def open_indexfungorum():\n",
    "    driver.get('http://www.indexfungorum.org/')"
   ]
  },
  {
   "cell_type": "code",
   "execution_count": 3,
   "metadata": {},
   "outputs": [],
   "source": [
    "def to_search_page():\n",
    "    '''to search page like clicking  Search indexFungorum using mouse\n",
    "    '''\n",
    "    search_index_fungorum_element = driver.find_element(By.CSS_SELECTOR, '[href=\"./Names/Names.asp\"]')\n",
    "    time.sleep(1)\n",
    "    search_index_fungorum_element.click()"
   ]
  },
  {
   "cell_type": "code",
   "execution_count": 4,
   "metadata": {
    "scrolled": true
   },
   "outputs": [],
   "source": [
    "def search_record(record_name):\n",
    "    '''input a record name and search'''\n",
    "    search_box = driver.find_element(By.NAME, 'SearchTerm')\n",
    "    search_box.clear()\n",
    "    search_box.send_keys(record_name)\n",
    "    search_btn = driver.find_element(By.CSS_SELECTOR, '[type=\"submit\"]')\n",
    "    search_btn.click()\n",
    "    time.sleep(5) # Waiting the page loads\n",
    "    \n",
    "    number_of_records = driver.find_element(By.XPATH,'/html/body/table/tbody/tr[2]/td/table/tbody/tr/td/p[1]/b[3]').text.split()[1]\n",
    "                \n",
    "    number_of_records = int(number_of_records)\n",
    "    if (number_of_records // 200 > 1):\n",
    "        if number_of_records % 200 != 0:\n",
    "            num_page = number_of_records // 200 + 1\n",
    "        else:\n",
    "            num_page = number_of_records // 200\n",
    "    print(f'Number of pages   : {num_page}', file=sys.stdout, flush=True)\n",
    "    print(f'Number of records : {number_of_records}', file=sys.stdout, flush=True)\n",
    "    \n",
    "    time.sleep(2)\n",
    "    \n",
    "    all_records_lst = []\n",
    "    \n",
    "    html = driver.page_source\n",
    "    pattern = r'</p><a class=(.*?)<br><p>'\n",
    "\n",
    "    result = re.search(pattern, html, re.S)\n",
    "    if result:\n",
    "        text_between_first_match = result.group(1).strip()\n",
    "        line_lst = text_between_first_match.split('<br>')\n",
    "        all_records_lst.extend(line_lst)\n",
    "        #print(len([line for line in line_lst if 'NamesRecord.asp?RecordID' in line]))\n",
    "    else:\n",
    "        print('Error: failed in parsing Page 1')\n",
    "    \n",
    "    if num_page >= 2:\n",
    "        for i in range(2, num_page + 1):\n",
    "            css_pattern = f'[href=\"Names.asp?pg={i}\"]'\n",
    "            page_btn = driver.find_element(By.CSS_SELECTOR, css_pattern)\n",
    "            page_btn.click()\n",
    "            time.sleep(5)\n",
    "            html = driver.page_source\n",
    "            pattern = r'</p><a class=(.*?)<br><p>'\n",
    "\n",
    "            result = re.search(pattern, html, re.S)\n",
    "            if result:\n",
    "                text_between_first_match = result.group(1).strip()\n",
    "                line_lst = text_between_first_match.split('<br>')\n",
    "                all_records_lst.extend(line_lst)\n",
    "                # print(len([line for line in line_lst if 'NamesRecord.asp?RecordID' in line]))\n",
    "            else:\n",
    "                print(f'Error: failed in parsing Page {i}')\n",
    "    if len(all_records_lst) != number_of_records:\n",
    "        print('Warning: some records no Links')\n",
    "    return all_records_lst   "
   ]
  },
  {
   "cell_type": "code",
   "execution_count": 5,
   "metadata": {},
   "outputs": [],
   "source": [
    "def parse_each_record_line(all_records_lst):\n",
    "    records_lst = []\n",
    "    for line in all_records_lst:\n",
    "        #print(line)\n",
    "        try:\n",
    "            record_label = re.search(r'>(.*?)<', line).group(1)\n",
    "        except:\n",
    "            record_label = ''\n",
    "        #print(record_label, end='|')\n",
    "        if not record_label:\n",
    "            sys.exit(f'not a valid label {line}')    \n",
    "        try:\n",
    "            record_submitter_year = re.search(r'</a>(.*?)<a', line).group(1).replace('&amp;','and').split('(also')[0].strip().strip(',')\n",
    "        except:\n",
    "            record_submitter_year = ''\n",
    "\n",
    "        try:\n",
    "            record_submitter = re.sub(r'\\b\\d{4}\\b', '', record_submitter_year).strip(';').strip()\n",
    "        except:\n",
    "            record_submitter = ''\n",
    "        #print(record_submitter, end='|')\n",
    "\n",
    "        try:\n",
    "            record_year = re.search(r'\\b\\d{4}\\b',record_submitter_year).group()\n",
    "        except:\n",
    "            record_year = ''\n",
    "        #print(record_year, end='|')\n",
    "\n",
    "        record_link = ''\n",
    "        if 'NamesRecord.asp?RecordID=' in line:\n",
    "            record_link = re.search(r'NamesRecord\\.asp\\?RecordID=\\d+', line).group()\n",
    "            #print(record_link,end='|')\n",
    "        \n",
    "        if 'SynSpecies.asp' in line:\n",
    "            record_current_label = re.search(r'>(.*?)<', line.split('SynSpecies')[1]).group(1)\n",
    "            #print(record_current_label)\n",
    "        else:\n",
    "            record_current_label = record_label\n",
    "        \n",
    "        label_changes = 0\n",
    "        if record_label.split()[:2] != record_current_label.split()[0:2]:\n",
    "            label_changes = 1\n",
    "\n",
    "        if record_link:\n",
    "            record_link = 'http://www.indexfungorum.org/Names/' + record_link\n",
    "        records_lst.append([record_label,record_submitter,record_year,record_link,record_current_label,label_changes])\n",
    "    return records_lst"
   ]
  },
  {
   "cell_type": "code",
   "execution_count": 6,
   "metadata": {},
   "outputs": [],
   "source": [
    "def add_nucleotide_records(records_lst):\n",
    "    Entrez.email = \"chenyanpeng1992@outlook.com\"\n",
    "    unique_term_nucleotide_count_dict = {}\n",
    "    for record_lst in tqdm(records_lst,desc=\"query NCBI nucleotide\"):\n",
    "        search_nucleotide_term = record_lst[4]\n",
    "        if search_nucleotide_term not in unique_term_nucleotide_count_dict:\n",
    "            handle = Entrez.esearch(db=\"nucleotide\", term=search_nucleotide_term)\n",
    "            records = Entrez.read(handle)\n",
    "            unique_term_nucleotide_count_dict[search_nucleotide_term] = records['Count']\n",
    "            \n",
    "    new_records_lst = [record_lst + [unique_term_nucleotide_count_dict[record_lst[4]]] for record_lst in records_lst]\n",
    "    return new_records_lst"
   ]
  },
  {
   "cell_type": "markdown",
   "metadata": {},
   "source": [
    "# Useage by an example"
   ]
  },
  {
   "cell_type": "code",
   "execution_count": 13,
   "metadata": {},
   "outputs": [],
   "source": [
    "s = Service(r'msedgedriver.exe')\n",
    "option = webdriver.EdgeOptions()\n",
    "\n",
    "# hide search window\n",
    "#option.add_argument('--headless')\n",
    "\n",
    "# active Edge searching engine and 5s for the browser to load the data\n",
    "#driver = webdriver.Edge(service=s, options = option)\n",
    "driver = webdriver.Edge(service=s)\n",
    "driver.implicitly_wait(5)\n",
    "\n",
    "# to indexfungorum mainpage\n",
    "open_indexfungorum()\n",
    "\n",
    "# to search page\n",
    "to_search_page()"
   ]
  },
  {
   "cell_type": "code",
   "execution_count": 14,
   "metadata": {},
   "outputs": [],
   "source": [
    "# input a search term\n",
    "search_term = 'Xylaria'"
   ]
  },
  {
   "cell_type": "code",
   "execution_count": 15,
   "metadata": {
    "scrolled": true
   },
   "outputs": [
    {
     "name": "stdout",
     "output_type": "stream",
     "text": [
      "Number of pages   : 5\n",
      "Number of records : 878\n"
     ]
    }
   ],
   "source": [
    "# obtain information\n",
    "all_records_lst = search_record(search_term)\n",
    "records_lst = parse_each_record_line(all_records_lst)\n",
    "driver.close()"
   ]
  },
  {
   "cell_type": "code",
   "execution_count": 16,
   "metadata": {
    "scrolled": true
   },
   "outputs": [
    {
     "name": "stderr",
     "output_type": "stream",
     "text": [
      "query NCBI nucleotide: 100%|█████████████████████████████████████████████████████████| 878/878 [14:03<00:00,  1.04it/s]\n"
     ]
    }
   ],
   "source": [
    "# check whether each record has sequence available in the NCBI nucleotide database\n",
    "new_records_lst = add_nucleotide_records(records_lst)"
   ]
  },
  {
   "cell_type": "code",
   "execution_count": 12,
   "metadata": {
    "scrolled": true
   },
   "outputs": [],
   "source": [
    "# output to excel\n",
    "headers = ['record_label','record_submitter','record_year','record_link','record_current_label','label_changes', 'count_sequence']\n",
    "# Convert the nested list to a DataFrame with headers\n",
    "df = pd.DataFrame(new_records_lst, columns=headers)\n",
    "\n",
    "# Export the DataFrame to Excel\n",
    "time_suffix = time.strftime('%Y%m%d')\n",
    "output_file = search_term + '_indexfungorum_records_' + str(time_suffix) + '.xlsx'\n",
    "df.to_excel(output_file, index=False)"
   ]
  },
  {
   "cell_type": "markdown",
   "metadata": {},
   "source": [
    "# Tidy table"
   ]
  },
  {
   "cell_type": "code",
   "execution_count": 35,
   "metadata": {},
   "outputs": [],
   "source": [
    "df = pd.read_excel('Fusarium_indexfungorum_records_20230807.xlsx')"
   ]
  },
  {
   "cell_type": "code",
   "execution_count": 36,
   "metadata": {},
   "outputs": [],
   "source": [
    "df_accepted = df"
   ]
  },
  {
   "cell_type": "code",
   "execution_count": 40,
   "metadata": {},
   "outputs": [],
   "source": [
    "df_taxa_table = pd.read_excel('D:\\PhD_Thesis\\chapter2\\Sordariomycetes_Species\\Fusarium\\Fusarium_taxa_table.xlsx')"
   ]
  },
  {
   "cell_type": "code",
   "execution_count": 41,
   "metadata": {
    "scrolled": true
   },
   "outputs": [
    {
     "data": {
      "text/html": [
       "<div>\n",
       "<style scoped>\n",
       "    .dataframe tbody tr th:only-of-type {\n",
       "        vertical-align: middle;\n",
       "    }\n",
       "\n",
       "    .dataframe tbody tr th {\n",
       "        vertical-align: top;\n",
       "    }\n",
       "\n",
       "    .dataframe thead th {\n",
       "        text-align: right;\n",
       "    }\n",
       "</style>\n",
       "<table border=\"1\" class=\"dataframe\">\n",
       "  <thead>\n",
       "    <tr style=\"text-align: right;\">\n",
       "      <th></th>\n",
       "      <th>longLabel</th>\n",
       "      <th>Year</th>\n",
       "      <th>Isolate</th>\n",
       "      <th>Type</th>\n",
       "      <th>Country / Location</th>\n",
       "      <th>Host / Habitat</th>\n",
       "      <th>ITS</th>\n",
       "      <th>CAL</th>\n",
       "      <th>TEF</th>\n",
       "      <th>RPB1</th>\n",
       "      <th>RPB2</th>\n",
       "      <th>TUB2</th>\n",
       "      <th>IGS</th>\n",
       "    </tr>\n",
       "  </thead>\n",
       "  <tbody>\n",
       "    <tr>\n",
       "      <th>0</th>\n",
       "      <td>Albonectria rigidiuscula</td>\n",
       "      <td>NaN</td>\n",
       "      <td>LC13606 = F503</td>\n",
       "      <td>NaN</td>\n",
       "      <td>Japan</td>\n",
       "      <td>unidentified plant</td>\n",
       "      <td>MW016388</td>\n",
       "      <td>MW566255</td>\n",
       "      <td>MW580428</td>\n",
       "      <td>MW024420</td>\n",
       "      <td>MW474374</td>\n",
       "      <td>MW533715</td>\n",
       "      <td>NaN</td>\n",
       "    </tr>\n",
       "    <tr>\n",
       "      <th>1</th>\n",
       "      <td>Bisifusarium aseptatum</td>\n",
       "      <td>NaN</td>\n",
       "      <td>CGMCC 3.20816 = LC1075 T</td>\n",
       "      <td>1.0</td>\n",
       "      <td>China, Guangdong Province, Guangzhou city</td>\n",
       "      <td>Orchidaceae sp.</td>\n",
       "      <td>MW016389</td>\n",
       "      <td>MW566256</td>\n",
       "      <td>MW580429</td>\n",
       "      <td>MW024421</td>\n",
       "      <td>MW474375</td>\n",
       "      <td>MW533716</td>\n",
       "      <td>NaN</td>\n",
       "    </tr>\n",
       "    <tr>\n",
       "      <th>2</th>\n",
       "      <td>Bisifusarium aseptatum</td>\n",
       "      <td>NaN</td>\n",
       "      <td>LC13607</td>\n",
       "      <td>NaN</td>\n",
       "      <td>China, Guangdong Province, Guangzhou city</td>\n",
       "      <td>Orchidaceae sp.</td>\n",
       "      <td>MW016390</td>\n",
       "      <td>MW566257</td>\n",
       "      <td>MW580430</td>\n",
       "      <td>MW024422</td>\n",
       "      <td>MW474376</td>\n",
       "      <td>MW533717</td>\n",
       "      <td>NaN</td>\n",
       "    </tr>\n",
       "    <tr>\n",
       "      <th>3</th>\n",
       "      <td>Bisifusarium aseptatum</td>\n",
       "      <td>NaN</td>\n",
       "      <td>LC13608</td>\n",
       "      <td>NaN</td>\n",
       "      <td>China, Guangdong Province, Guangzhou city</td>\n",
       "      <td>Orchidaceae sp.</td>\n",
       "      <td>MW016391</td>\n",
       "      <td>MW566258</td>\n",
       "      <td>MW580431</td>\n",
       "      <td>MW024423</td>\n",
       "      <td>MW474377</td>\n",
       "      <td>MW533718</td>\n",
       "      <td>NaN</td>\n",
       "    </tr>\n",
       "    <tr>\n",
       "      <th>4</th>\n",
       "      <td>Fusarium acaciae-mearnsii</td>\n",
       "      <td>NaN</td>\n",
       "      <td>LC13786 = FJWYS2-3</td>\n",
       "      <td>NaN</td>\n",
       "      <td>China, Fujian Province, Fuzhou city</td>\n",
       "      <td>Musa nana</td>\n",
       "      <td>MW016630</td>\n",
       "      <td>NaN</td>\n",
       "      <td>MW620091</td>\n",
       "      <td>MW024658</td>\n",
       "      <td>MW474616</td>\n",
       "      <td>MW533978</td>\n",
       "      <td>NaN</td>\n",
       "    </tr>\n",
       "  </tbody>\n",
       "</table>\n",
       "</div>"
      ],
      "text/plain": [
       "                   longLabel  Year                   Isolate  Type   \n",
       "0  Albonectria rigidiuscula    NaN            LC13606 = F503   NaN  \\\n",
       "1     Bisifusarium aseptatum   NaN  CGMCC 3.20816 = LC1075 T   1.0   \n",
       "2     Bisifusarium aseptatum   NaN                   LC13607   NaN   \n",
       "3     Bisifusarium aseptatum   NaN                   LC13608   NaN   \n",
       "4  Fusarium acaciae-mearnsii   NaN        LC13786 = FJWYS2-3   NaN   \n",
       "\n",
       "                          Country / Location      Host / Habitat       ITS   \n",
       "0                                      Japan  unidentified plant  MW016388  \\\n",
       "1  China, Guangdong Province, Guangzhou city     Orchidaceae sp.  MW016389   \n",
       "2  China, Guangdong Province, Guangzhou city     Orchidaceae sp.  MW016390   \n",
       "3  China, Guangdong Province, Guangzhou city     Orchidaceae sp.  MW016391   \n",
       "4        China, Fujian Province, Fuzhou city           Musa nana  MW016630   \n",
       "\n",
       "        CAL       TEF      RPB1      RPB2      TUB2  IGS  \n",
       "0  MW566255  MW580428  MW024420  MW474374  MW533715  NaN  \n",
       "1  MW566256  MW580429  MW024421  MW474375  MW533716  NaN  \n",
       "2  MW566257  MW580430  MW024422  MW474376  MW533717  NaN  \n",
       "3  MW566258  MW580431  MW024423  MW474377  MW533718  NaN  \n",
       "4       NaN  MW620091  MW024658  MW474616  MW533978  NaN  "
      ]
     },
     "execution_count": 41,
     "metadata": {},
     "output_type": "execute_result"
    }
   ],
   "source": [
    "df_taxa_table.head()"
   ]
  },
  {
   "cell_type": "code",
   "execution_count": 42,
   "metadata": {},
   "outputs": [],
   "source": [
    "df_to_add = df_accepted[~df_accepted['record_current_label'].isin(df_taxa_table['longLabel'])]"
   ]
  },
  {
   "cell_type": "code",
   "execution_count": 43,
   "metadata": {},
   "outputs": [
    {
     "data": {
      "text/html": [
       "<div>\n",
       "<style scoped>\n",
       "    .dataframe tbody tr th:only-of-type {\n",
       "        vertical-align: middle;\n",
       "    }\n",
       "\n",
       "    .dataframe tbody tr th {\n",
       "        vertical-align: top;\n",
       "    }\n",
       "\n",
       "    .dataframe thead th {\n",
       "        text-align: right;\n",
       "    }\n",
       "</style>\n",
       "<table border=\"1\" class=\"dataframe\">\n",
       "  <thead>\n",
       "    <tr style=\"text-align: right;\">\n",
       "      <th></th>\n",
       "      <th>record_current_label</th>\n",
       "      <th>record_label</th>\n",
       "      <th>record_submitter</th>\n",
       "      <th>record_year</th>\n",
       "      <th>record_link</th>\n",
       "      <th>label_changes</th>\n",
       "      <th>count_sequence</th>\n",
       "    </tr>\n",
       "  </thead>\n",
       "  <tbody>\n",
       "    <tr>\n",
       "      <th>0</th>\n",
       "      <td>Fusarium aberrans</td>\n",
       "      <td>Fusarium aberrans</td>\n",
       "      <td>J.W. Xia, L. Lombard, Sand.-Den., X.G. Zhang a...</td>\n",
       "      <td>2019.0</td>\n",
       "      <td>http://www.indexfungorum.org/Names/NamesRecord...</td>\n",
       "      <td>0</td>\n",
       "      <td>15</td>\n",
       "    </tr>\n",
       "    <tr>\n",
       "      <th>2</th>\n",
       "      <td>Fusarium acaciae</td>\n",
       "      <td>Fusarium acaciae</td>\n",
       "      <td>Cooke and Harkn.</td>\n",
       "      <td>1884.0</td>\n",
       "      <td>http://www.indexfungorum.org/Names/NamesRecord...</td>\n",
       "      <td>0</td>\n",
       "      <td>148</td>\n",
       "    </tr>\n",
       "    <tr>\n",
       "      <th>3</th>\n",
       "      <td>Fusarium acaciae</td>\n",
       "      <td>Fusarium acaciae</td>\n",
       "      <td>Berl. and Voglino</td>\n",
       "      <td>1886.0</td>\n",
       "      <td>http://www.indexfungorum.org/Names/NamesRecord...</td>\n",
       "      <td>0</td>\n",
       "      <td>148</td>\n",
       "    </tr>\n",
       "    <tr>\n",
       "      <th>4</th>\n",
       "      <td>Fusarium acaciae</td>\n",
       "      <td>Fusarium acaciae</td>\n",
       "      <td>Sacc.</td>\n",
       "      <td>1891.0</td>\n",
       "      <td>http://www.indexfungorum.org/Names/NamesRecord...</td>\n",
       "      <td>0</td>\n",
       "      <td>148</td>\n",
       "    </tr>\n",
       "    <tr>\n",
       "      <th>6</th>\n",
       "      <td>Fusarium acicola</td>\n",
       "      <td>Fusarium acicola</td>\n",
       "      <td>Bres.</td>\n",
       "      <td>1910.0</td>\n",
       "      <td>http://www.indexfungorum.org/Names/NamesRecord...</td>\n",
       "      <td>0</td>\n",
       "      <td>0</td>\n",
       "    </tr>\n",
       "  </tbody>\n",
       "</table>\n",
       "</div>"
      ],
      "text/plain": [
       "  record_current_label       record_label   \n",
       "0    Fusarium aberrans  Fusarium aberrans  \\\n",
       "2     Fusarium acaciae   Fusarium acaciae   \n",
       "3     Fusarium acaciae   Fusarium acaciae   \n",
       "4     Fusarium acaciae   Fusarium acaciae   \n",
       "6     Fusarium acicola   Fusarium acicola   \n",
       "\n",
       "                                    record_submitter  record_year   \n",
       "0  J.W. Xia, L. Lombard, Sand.-Den., X.G. Zhang a...       2019.0  \\\n",
       "2                                   Cooke and Harkn.       1884.0   \n",
       "3                                  Berl. and Voglino       1886.0   \n",
       "4                                              Sacc.       1891.0   \n",
       "6                                              Bres.       1910.0   \n",
       "\n",
       "                                         record_link  label_changes   \n",
       "0  http://www.indexfungorum.org/Names/NamesRecord...              0  \\\n",
       "2  http://www.indexfungorum.org/Names/NamesRecord...              0   \n",
       "3  http://www.indexfungorum.org/Names/NamesRecord...              0   \n",
       "4  http://www.indexfungorum.org/Names/NamesRecord...              0   \n",
       "6  http://www.indexfungorum.org/Names/NamesRecord...              0   \n",
       "\n",
       "   count_sequence  \n",
       "0              15  \n",
       "2             148  \n",
       "3             148  \n",
       "4             148  \n",
       "6               0  "
      ]
     },
     "execution_count": 43,
     "metadata": {},
     "output_type": "execute_result"
    }
   ],
   "source": [
    "df_to_add.head()"
   ]
  },
  {
   "cell_type": "code",
   "execution_count": 44,
   "metadata": {},
   "outputs": [],
   "source": [
    "df_to_add.to_excel('D:\\PhD_Thesis\\chapter2\\Sordariomycetes_Species\\Fusarium\\Fusarium_to_add.xlsx')"
   ]
  },
  {
   "cell_type": "code",
   "execution_count": null,
   "metadata": {},
   "outputs": [],
   "source": []
  }
 ],
 "metadata": {
  "kernelspec": {
   "display_name": "Python 3 (ipykernel)",
   "language": "python",
   "name": "python3"
  },
  "language_info": {
   "codemirror_mode": {
    "name": "ipython",
    "version": 3
   },
   "file_extension": ".py",
   "mimetype": "text/x-python",
   "name": "python",
   "nbconvert_exporter": "python",
   "pygments_lexer": "ipython3",
   "version": "3.11.3"
  },
  "latex_envs": {
   "LaTeX_envs_menu_present": true,
   "autoclose": false,
   "autocomplete": true,
   "bibliofile": "biblio.bib",
   "cite_by": "apalike",
   "current_citInitial": 1,
   "eqLabelWithNumbers": true,
   "eqNumInitial": 1,
   "hotkeys": {
    "equation": "Ctrl-E",
    "itemize": "Ctrl-I"
   },
   "labels_anchors": false,
   "latex_user_defs": false,
   "report_style_numbering": false,
   "user_envs_cfg": false
  },
  "toc": {
   "base_numbering": 1,
   "nav_menu": {},
   "number_sections": true,
   "sideBar": true,
   "skip_h1_title": false,
   "title_cell": "Table of Contents",
   "title_sidebar": "Contents",
   "toc_cell": false,
   "toc_position": {
    "height": "calc(100% - 180px)",
    "left": "10px",
    "top": "150px",
    "width": "165px"
   },
   "toc_section_display": true,
   "toc_window_display": false
  },
  "varInspector": {
   "cols": {
    "lenName": 16,
    "lenType": 16,
    "lenVar": 40
   },
   "kernels_config": {
    "python": {
     "delete_cmd_postfix": "",
     "delete_cmd_prefix": "del ",
     "library": "var_list.py",
     "varRefreshCmd": "print(var_dic_list())"
    },
    "r": {
     "delete_cmd_postfix": ") ",
     "delete_cmd_prefix": "rm(",
     "library": "var_list.r",
     "varRefreshCmd": "cat(var_dic_list()) "
    }
   },
   "types_to_exclude": [
    "module",
    "function",
    "builtin_function_or_method",
    "instance",
    "_Feature"
   ],
   "window_display": false
  }
 },
 "nbformat": 4,
 "nbformat_minor": 4
}
